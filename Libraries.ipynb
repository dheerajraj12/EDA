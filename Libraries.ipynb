{
 "cells": [
  {
   "cell_type": "code",
   "execution_count": 3,
   "metadata": {},
   "outputs": [
    {
     "name": "stdout",
     "output_type": "stream",
     "text": [
      "5.0\n"
     ]
    }
   ],
   "source": [
    "import math\n",
    "num = 25\n",
    "result = math.sqrt(num)\n",
    "print(result)"
   ]
  },
  {
   "cell_type": "code",
   "execution_count": 5,
   "metadata": {},
   "outputs": [
    {
     "name": "stdout",
     "output_type": "stream",
     "text": [
      "31.622776601683793\n"
     ]
    }
   ],
   "source": [
    "from math import sqrt\n",
    "num = 1000\n",
    "result = sqrt(num)\n",
    "print(result)"
   ]
  },
  {
   "cell_type": "code",
   "execution_count": 6,
   "metadata": {},
   "outputs": [
    {
     "name": "stdout",
     "output_type": "stream",
     "text": [
      "Square root of 25 is 5.0.\n",
      "Circumference of a Circle with radius 1 is 6.283185307179586.\n"
     ]
    }
   ],
   "source": [
    "from math import *\n",
    "num = 25\n",
    "square_root = sqrt(num)\n",
    "circumference = 2 * pi\n",
    "print(f\"Square root of {num} is {square_root}.\")\n",
    "print(f\"Circumference of a Circle with radius 1 is {circumference}.\")"
   ]
  },
  {
   "cell_type": "code",
   "execution_count": 8,
   "metadata": {},
   "outputs": [
    {
     "name": "stdout",
     "output_type": "stream",
     "text": [
      "[1 2 3 4 5]\n"
     ]
    }
   ],
   "source": [
    "import numpy as np\n",
    "num_list = [1, 2, 3, 4, 5]\n",
    "arr_1D = np.array(num_list)\n",
    "print(arr_1D)"
   ]
  },
  {
   "cell_type": "code",
   "execution_count": 18,
   "metadata": {},
   "outputs": [
    {
     "name": "stdout",
     "output_type": "stream",
     "text": [
      "[ 6  7  8  9 10]\n"
     ]
    }
   ],
   "source": [
    "import numpy as np\n",
    "arr_1D = np.array([6, 7, 8, 9, 10])\n",
    "print(arr_1D)"
   ]
  },
  {
   "cell_type": "code",
   "execution_count": 11,
   "metadata": {},
   "outputs": [
    {
     "name": "stdout",
     "output_type": "stream",
     "text": [
      "[[1 2 3]\n",
      " [4 5 6]]\n"
     ]
    }
   ],
   "source": [
    "import numpy as np\n",
    "arr_2D = np.array([[1, 2, 3], [4, 5, 6]])\n",
    "print(arr_2D)"
   ]
  },
  {
   "cell_type": "code",
   "execution_count": 12,
   "metadata": {},
   "outputs": [
    {
     "name": "stdout",
     "output_type": "stream",
     "text": [
      "[[[1 2]\n",
      "  [3 4]]\n",
      "\n",
      " [[5 6]\n",
      "  [7 8]]]\n"
     ]
    }
   ],
   "source": [
    "import numpy as np\n",
    "arr_3D = np.array([[[1, 2], [3, 4]], [[5, 6], [7, 8]]])\n",
    "print(arr_3D)"
   ]
  },
  {
   "cell_type": "code",
   "execution_count": 14,
   "metadata": {},
   "outputs": [
    {
     "name": "stdout",
     "output_type": "stream",
     "text": [
      "[[0. 0. 0. 0.]\n",
      " [0. 0. 0. 0.]\n",
      " [0. 0. 0. 0.]\n",
      " [0. 0. 0. 0.]]\n"
     ]
    }
   ],
   "source": [
    "import numpy as np\n",
    "zeros_arr_2D = np.zeros((4, 4))\n",
    "print(zeros_arr_2D)"
   ]
  },
  {
   "cell_type": "code",
   "execution_count": 15,
   "metadata": {},
   "outputs": [
    {
     "name": "stdout",
     "output_type": "stream",
     "text": [
      "[1. 1. 1. 1.]\n"
     ]
    }
   ],
   "source": [
    "import numpy as np\n",
    "ones_arr_1D = np.ones(4)\n",
    "print(ones_arr_1D)"
   ]
  },
  {
   "cell_type": "code",
   "execution_count": 2,
   "metadata": {},
   "outputs": [
    {
     "name": "stdout",
     "output_type": "stream",
     "text": [
      "[11 12 13 14]\n",
      "[-3 -2 -1  0]\n",
      "[2 4 6 8]\n",
      "[0.5 1.  1.5 2. ]\n"
     ]
    }
   ],
   "source": [
    "import numpy as np\n",
    "arr_1D = np.array([1, 2, 3, 4])\n",
    "result1 = arr_1D + 10\n",
    "print(result1)\n",
    "result2 = arr_1D - 4\n",
    "print(result2)\n",
    "result3 = arr_1D * 2\n",
    "print(result3)\n",
    "result4  = arr_1D / 2\n",
    "print(result4)"
   ]
  },
  {
   "cell_type": "code",
   "execution_count": 6,
   "metadata": {},
   "outputs": [
    {
     "name": "stdout",
     "output_type": "stream",
     "text": [
      "60\n",
      "[10 20 30]\n",
      "[20 50 80]\n"
     ]
    }
   ],
   "source": [
    "import numpy as np\n",
    "arr_2D = np.array([[10, 20, 30], [40, 50, 60], [70, 80, 90]])\n",
    "print(arr_2D[1, 2])\n",
    "print(arr_2D[0, :])\n",
    "print(arr_2D[:, 1])"
   ]
  },
  {
   "cell_type": "code",
   "execution_count": 7,
   "metadata": {},
   "outputs": [
    {
     "name": "stdout",
     "output_type": "stream",
     "text": [
      "[[10 20]\n",
      " [30 40]]\n",
      "[10 20]\n",
      "10\n",
      "60\n"
     ]
    }
   ],
   "source": [
    "import numpy as np\n",
    "arr_3D = np.array([[[10, 20], [30, 40]], [[50, 60], [70, 80]]])\n",
    "print(arr_3D[0])\n",
    "print(arr_3D[0, 0])\n",
    "print(arr_3D[0, 0, 0])\n",
    "print(arr_3D[1, 0, 1])"
   ]
  },
  {
   "cell_type": "code",
   "execution_count": 8,
   "metadata": {},
   "outputs": [
    {
     "name": "stdout",
     "output_type": "stream",
     "text": [
      "0    1\n",
      "1    2\n",
      "2    3\n",
      "3    4\n",
      "4    5\n",
      "dtype: int64\n"
     ]
    }
   ],
   "source": [
    "import pandas as pd\n",
    "num_list = [1, 2, 3, 4, 5]\n",
    "num_series = pd.Series(num_list)\n",
    "print(num_series)"
   ]
  },
  {
   "cell_type": "code",
   "execution_count": 9,
   "metadata": {},
   "outputs": [
    {
     "name": "stdout",
     "output_type": "stream",
     "text": [
      "A    1\n",
      "B    2\n",
      "C    3\n",
      "D    4\n",
      "E    5\n",
      "dtype: int64\n"
     ]
    }
   ],
   "source": [
    "import pandas as pd\n",
    "num_series = pd.Series([1, 2, 3, 4, 5], index = [\"A\", \"B\", \"C\", \"D\", \"E\"])\n",
    "print(num_series)"
   ]
  },
  {
   "cell_type": "code",
   "execution_count": 11,
   "metadata": {},
   "outputs": [
    {
     "name": "stdout",
     "output_type": "stream",
     "text": [
      "      Name  Age           City\n",
      "A  Dheeraj   20  Visakhapatnam\n",
      "B     Abhi   19  Visakhapatnam\n",
      "C     Kali   20      Hyderabad\n"
     ]
    }
   ],
   "source": [
    "import pandas as pd\n",
    "data = {\n",
    "        \"Name\" : [\"Dheeraj\", \"Abhi\", \"Kali\"],\n",
    "        \"Age\" : [20, 19, 20],\n",
    "        \"City\" : [\"Visakhapatnam\", \"Visakhapatnam\", \"Hyderabad\"]\n",
    "}\n",
    "dataframe = pd.DataFrame(data, index = [\"A\", \"B\", \"C\"])\n",
    "print(dataframe)"
   ]
  },
  {
   "cell_type": "code",
   "execution_count": 12,
   "metadata": {},
   "outputs": [
    {
     "data": {
      "image/png": "[encoded data removed]",
      "text/plain": [
       "<Figure size 640x480 with 1 Axes>"
      ]
     },
     "metadata": {},
     "output_type": "display_data"
    }
   ],
   "source": [
    "import matplotlib.pyplot as plt\n",
    "x = [1, 2, 3, 4, 5]\n",
    "y = [5, 0, 1, 3, -2]\n",
    "plt.plot(x, y)\n",
    "plt.xlabel(\"X-axis\")\n",
    "plt.ylabel(\"Y-axis\")\n",
    "plt.title(\"Graph Plot\")\n",
    "plt.show()"
   ]
  },
  {
   "cell_type": "code",
   "execution_count": 13,
   "metadata": {},
   "outputs": [
    {
     "data": {
      "image/png": "[encoded data removed]",
      "text/plain": [
       "<Figure size 640x480 with 1 Axes>"
      ]
     },
     "metadata": {},
     "output_type": "display_data"
    }
   ],
   "source": [
    "import matplotlib.pyplot as plt\n",
    "categories = [\"A\", \"B\", \"C\", \"D\", \"E\"]\n",
    "values = [23, 21, 4, 45, 33]\n",
    "plt.bar(categories, values, color = \"Green\")\n",
    "plt.xlabel(\"Categories\")\n",
    "plt.ylabel(\"Values\")\n",
    "plt.title(\"Bar Plot\")\n",
    "plt.show()"
   ]
  },
  {
   "cell_type": "code",
   "execution_count": 17,
   "metadata": {},
   "outputs": [
    {
     "data": {
      "image/png": "[encoded data removed]",
      "text/plain": [
       "<Figure size 640x480 with 1 Axes>"
      ]
     },
     "metadata": {},
     "output_type": "display_data"
    }
   ],
   "source": [
    "import matplotlib.pyplot as plt\n",
    "data = [12, 5, 8, 11, 7, 9, 10]\n",
    "plt.hist(data, bins = 5, color = \"Green\", edgecolor = \"Black\")\n",
    "plt.xlabel(\"Value\")\n",
    "plt.ylabel(\"Frequency\")\n",
    "plt.title(\"Histogram\")\n",
    "plt.show()"
   ]
  }
 ],
 "metadata": {
  "kernelspec": {
   "display_name": "Python 3",
   "language": "python",
   "name": "python3"
  },
  "language_info": {
   "codemirror_mode": {
    "name": "ipython",
    "version": 3
   },
   "file_extension": ".py",
   "mimetype": "text/x-python",
   "name": "python",
   "nbconvert_exporter": "python",
   "pygments_lexer": "ipython3",
   "version": "3.12.4"
  }
 },
 "nbformat": 4,
 "nbformat_minor": 2
}
