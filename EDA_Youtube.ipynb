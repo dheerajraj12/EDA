{
 "cells": [
  {
   "cell_type": "code",
   "execution_count": 1,
   "metadata": {},
   "outputs": [],
   "source": [
    "import numpy as np\n",
    "import pandas as pd\n",
    "import matplotlib.pyplot as plt\n",
    "import seaborn as sns"
   ]
  },
  {
   "cell_type": "code",
   "execution_count": 2,
   "metadata": {},
   "outputs": [],
   "source": [
    "df = pd.read_csv(r\"E:\\Dheeraj\\Finlatics Python\\Project\\global_youtube_statistics.csv\", encoding = \"latin1\")"
   ]
  },
  {
   "cell_type": "code",
   "execution_count": 3,
   "metadata": {},
   "outputs": [],
   "source": [
    "pd.set_option(\"display.max_rows\", None)\n",
    "pd.set_option(\"display.max_columns\", None)"
   ]
  },
  {
   "cell_type": "code",
   "execution_count": 17,
   "metadata": {},
   "outputs": [
    {
     "name": "stdout",
     "output_type": "stream",
     "text": [
      "   rank                    Youtuber  subscribers   video views  \\\n",
      "0     1                    T-Series  245000000.0  2.280000e+11   \n",
      "1     2              YouTube Movies  170000000.0  0.000000e+00   \n",
      "2     3                     MrBeast  166000000.0  2.836884e+10   \n",
      "3     4  Cocomelon - Nursery Rhymes  162000000.0  1.640000e+11   \n",
      "4     5                   SET India  159000000.0  1.480000e+11   \n",
      "\n",
      "           category                       Title  uploads Country of origin  \\\n",
      "0             Music                    T-Series    20082             India   \n",
      "1  Film & Animation               youtubemovies        1     United States   \n",
      "2     Entertainment                     MrBeast      741     United States   \n",
      "3         Education  Cocomelon - Nursery Rhymes      966     United States   \n",
      "4             Shows                   SET India   116536             India   \n",
      "\n",
      "         Country Abbreviation   channel_type  video_views_rank  country_rank  \\\n",
      "0          india           IN          Music               1.0           1.0   \n",
      "1  United States           US          Games         4055159.0        7670.0   \n",
      "2  United States           US  Entertainment              48.0           1.0   \n",
      "3  United States           US      Education               2.0           2.0   \n",
      "4          India           IN  Entertainment               3.0           2.0   \n",
      "\n",
      "   channel_type_rank  video_views_for_the_last_30_days  \\\n",
      "0                1.0                      2.258000e+09   \n",
      "1             7423.0                      1.200000e+01   \n",
      "2                1.0                      1.348000e+09   \n",
      "3                1.0                      1.975000e+09   \n",
      "4                2.0                      1.824000e+09   \n",
      "\n",
      "   lowest_monthly_earnings  highest_monthly_earnings  lowest_yearly_earnings  \\\n",
      "0                 564600.0                9000000.00              6800000.00   \n",
      "1                      0.0                      0.05                    0.04   \n",
      "2                 337000.0                5400000.00              4000000.00   \n",
      "3                 493800.0                7900000.00              5900000.00   \n",
      "4                 455900.0                7300000.00              5500000.00   \n",
      "\n",
      "   highest_yearly_earnings  subscribers_for_last_30_days  created_year  \\\n",
      "0             1.084000e+08                     2000000.0        2006.0   \n",
      "1             5.800000e-01                           NaN        2006.0   \n",
      "2             6.470000e+07                     8000000.0        2012.0   \n",
      "3             9.480000e+07                     1000000.0        2006.0   \n",
      "4             8.750000e+07                     1000000.0        2006.0   \n",
      "\n",
      "  created_month  created_date  Gross tertiary education enrollment (%)  \\\n",
      "0           Mar          13.0                                     28.1   \n",
      "1           NaN           5.0                                     88.2   \n",
      "2           Feb          20.0                                     88.2   \n",
      "3           Sep           1.0                                     88.2   \n",
      "4           Sep          20.0                                     28.1   \n",
      "\n",
      "     Population  Unemployment rate  Urban_population   Latitude  Longitude  \n",
      "0  1.366418e+09               5.36       471031528.0  20.593684  78.962880  \n",
      "1  3.282395e+08              14.70       270663028.0  37.090240 -95.712891  \n",
      "2  3.282395e+08              14.70       270663028.0  37.090240 -95.712891  \n",
      "3  3.282395e+08              14.70       270663028.0  37.090240 -95.712891  \n",
      "4  1.366418e+09               5.36       471031528.0  20.593684  78.962880  \n"
     ]
    }
   ],
   "source": [
    "print(df.head())"
   ]
  },
  {
   "cell_type": "code",
   "execution_count": 6,
   "metadata": {},
   "outputs": [
    {
     "name": "stdout",
     "output_type": "stream",
     "text": [
      "<class 'pandas.core.frame.DataFrame'>\n",
      "RangeIndex: 1006 entries, 0 to 1005\n",
      "Data columns (total 29 columns):\n",
      " #   Column                                   Non-Null Count  Dtype  \n",
      "---  ------                                   --------------  -----  \n",
      " 0   rank                                     1006 non-null   int64  \n",
      " 1   Youtuber                                 1006 non-null   object \n",
      " 2   subscribers                              1003 non-null   float64\n",
      " 3   video views                              1006 non-null   float64\n",
      " 4   category                                 951 non-null    object \n",
      " 5   Title                                    1006 non-null   object \n",
      " 6   uploads                                  1006 non-null   int64  \n",
      " 7   Country of origin                        881 non-null    object \n",
      " 8   Country                                  881 non-null    object \n",
      " 9   Abbreviation                             881 non-null    object \n",
      " 10  channel_type                             974 non-null    object \n",
      " 11  video_views_rank                         1005 non-null   float64\n",
      " 12  country_rank                             887 non-null    float64\n",
      " 13  channel_type_rank                        971 non-null    float64\n",
      " 14  video_views_for_the_last_30_days         949 non-null    float64\n",
      " 15  lowest_monthly_earnings                  1006 non-null   float64\n",
      " 16  highest_monthly_earnings                 1006 non-null   float64\n",
      " 17  lowest_yearly_earnings                   1006 non-null   float64\n",
      " 18  highest_yearly_earnings                  1006 non-null   float64\n",
      " 19  subscribers_for_last_30_days             666 non-null    float64\n",
      " 20  created_year                             1001 non-null   float64\n",
      " 21  created_month                            994 non-null    object \n",
      " 22  created_date                             1001 non-null   float64\n",
      " 23  Gross tertiary education enrollment (%)  880 non-null    float64\n",
      " 24  Population                               880 non-null    float64\n",
      " 25  Unemployment rate                        880 non-null    float64\n",
      " 26  Urban_population                         880 non-null    float64\n",
      " 27  Latitude                                 880 non-null    float64\n",
      " 28  Longitude                                880 non-null    float64\n",
      "dtypes: float64(19), int64(2), object(8)\n",
      "memory usage: 228.1+ KB\n",
      "None\n"
     ]
    }
   ],
   "source": [
    "print(df.info())"
   ]
  },
  {
   "cell_type": "code",
   "execution_count": 9,
   "metadata": {},
   "outputs": [
    {
     "name": "stdout",
     "output_type": "stream",
     "text": [
      "(1006, 29)\n",
      "Index(['rank', 'Youtuber', 'subscribers', 'video views', 'category', 'Title',\n",
      "       'uploads', 'Country of origin', 'Country', 'Abbreviation',\n",
      "       'channel_type', 'video_views_rank', 'country_rank', 'channel_type_rank',\n",
      "       'video_views_for_the_last_30_days', 'lowest_monthly_earnings',\n",
      "       'highest_monthly_earnings', 'lowest_yearly_earnings',\n",
      "       'highest_yearly_earnings', 'subscribers_for_last_30_days',\n",
      "       'created_year', 'created_month', 'created_date',\n",
      "       'Gross tertiary education enrollment (%)', 'Population',\n",
      "       'Unemployment rate', 'Urban_population', 'Latitude', 'Longitude'],\n",
      "      dtype='object')\n"
     ]
    }
   ],
   "source": [
    "print(df.shape)\n",
    "print(df.columns)"
   ]
  },
  {
   "cell_type": "code",
   "execution_count": 20,
   "metadata": {},
   "outputs": [
    {
     "name": "stdout",
     "output_type": "stream",
     "text": [
      "rank                                         0\n",
      "Youtuber                                     0\n",
      "subscribers                                  3\n",
      "video views                                  0\n",
      "category                                    55\n",
      "Title                                        0\n",
      "uploads                                      0\n",
      "Country of origin                          125\n",
      "Country                                    125\n",
      "Abbreviation                               125\n",
      "channel_type                                32\n",
      "video_views_rank                             1\n",
      "country_rank                               119\n",
      "channel_type_rank                           35\n",
      "video_views_for_the_last_30_days            57\n",
      "lowest_monthly_earnings                      0\n",
      "highest_monthly_earnings                     0\n",
      "lowest_yearly_earnings                       0\n",
      "highest_yearly_earnings                      0\n",
      "subscribers_for_last_30_days               340\n",
      "created_year                                 5\n",
      "created_month                               12\n",
      "created_date                                 5\n",
      "Gross tertiary education enrollment (%)    126\n",
      "Population                                 126\n",
      "Unemployment rate                          126\n",
      "Urban_population                           126\n",
      "Latitude                                   126\n",
      "Longitude                                  126\n",
      "dtype: int64\n"
     ]
    }
   ],
   "source": [
    "print(df.isnull().sum())"
   ]
  }
 ],
 "metadata": {
  "kernelspec": {
   "display_name": "Python 3",
   "language": "python",
   "name": "python3"
  },
  "language_info": {
   "codemirror_mode": {
    "name": "ipython",
    "version": 3
   },
   "file_extension": ".py",
   "mimetype": "text/x-python",
   "name": "python",
   "nbconvert_exporter": "python",
   "pygments_lexer": "ipython3",
   "version": "3.12.4"
  }
 },
 "nbformat": 4,
 "nbformat_minor": 2
}
