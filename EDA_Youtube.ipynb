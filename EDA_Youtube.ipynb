{
 "cells": [
  {
   "cell_type": "code",
   "execution_count": 73,
   "metadata": {},
   "outputs": [],
   "source": [
    "import numpy as np\n",
    "import pandas as pd\n",
    "import matplotlib.pyplot as plt\n",
    "import seaborn as sns"
   ]
  },
  {
   "cell_type": "code",
   "execution_count": 74,
   "metadata": {},
   "outputs": [],
   "source": [
    "df = pd.read_csv(r\"E:\\Dheeraj\\Finlatics Python\\Project\\global_youtube_statistics.csv\", encoding = \"latin1\")"
   ]
  },
  {
   "cell_type": "code",
   "execution_count": 75,
   "metadata": {},
   "outputs": [],
   "source": [
    "pd.set_option(\"display.max_rows\", None)\n",
    "pd.set_option(\"display.max_columns\", None)"
   ]
  },
  {
   "cell_type": "code",
   "execution_count": 76,
   "metadata": {},
   "outputs": [
    {
     "name": "stdout",
     "output_type": "stream",
     "text": [
      "   rank                    Youtuber  subscribers   video views  \\\n",
      "0     1                    T-Series  245000000.0  2.280000e+11   \n",
      "1     2              YouTube Movies  170000000.0  0.000000e+00   \n",
      "2     3                     MrBeast  166000000.0  2.836884e+10   \n",
      "3     4  Cocomelon - Nursery Rhymes  162000000.0  1.640000e+11   \n",
      "4     5                   SET India  159000000.0  1.480000e+11   \n",
      "\n",
      "           category                       Title  uploads Country of origin  \\\n",
      "0             Music                    T-Series    20082             India   \n",
      "1  Film & Animation               youtubemovies        1     United States   \n",
      "2     Entertainment                     MrBeast      741     United States   \n",
      "3         Education  Cocomelon - Nursery Rhymes      966     United States   \n",
      "4             Shows                   SET India   116536             India   \n",
      "\n",
      "         Country Abbreviation   channel_type  video_views_rank  country_rank  \\\n",
      "0          india           IN          Music               1.0           1.0   \n",
      "1  United States           US          Games         4055159.0        7670.0   \n",
      "2  United States           US  Entertainment              48.0           1.0   \n",
      "3  United States           US      Education               2.0           2.0   \n",
      "4          India           IN  Entertainment               3.0           2.0   \n",
      "\n",
      "   channel_type_rank  video_views_for_the_last_30_days  \\\n",
      "0                1.0                      2.258000e+09   \n",
      "1             7423.0                      1.200000e+01   \n",
      "2                1.0                      1.348000e+09   \n",
      "3                1.0                      1.975000e+09   \n",
      "4                2.0                      1.824000e+09   \n",
      "\n",
      "   lowest_monthly_earnings  highest_monthly_earnings  lowest_yearly_earnings  \\\n",
      "0                 564600.0                9000000.00              6800000.00   \n",
      "1                      0.0                      0.05                    0.04   \n",
      "2                 337000.0                5400000.00              4000000.00   \n",
      "3                 493800.0                7900000.00              5900000.00   \n",
      "4                 455900.0                7300000.00              5500000.00   \n",
      "\n",
      "   highest_yearly_earnings  subscribers_for_last_30_days  created_year  \\\n",
      "0             1.084000e+08                     2000000.0        2006.0   \n",
      "1             5.800000e-01                           NaN        2006.0   \n",
      "2             6.470000e+07                     8000000.0        2012.0   \n",
      "3             9.480000e+07                     1000000.0        2006.0   \n",
      "4             8.750000e+07                     1000000.0        2006.0   \n",
      "\n",
      "  created_month  created_date  Gross tertiary education enrollment (%)  \\\n",
      "0           Mar          13.0                                     28.1   \n",
      "1           NaN           5.0                                     88.2   \n",
      "2           Feb          20.0                                     88.2   \n",
      "3           Sep           1.0                                     88.2   \n",
      "4           Sep          20.0                                     28.1   \n",
      "\n",
      "     Population  Unemployment rate  Urban_population   Latitude  Longitude  \n",
      "0  1.366418e+09               5.36       471031528.0  20.593684  78.962880  \n",
      "1  3.282395e+08              14.70       270663028.0  37.090240 -95.712891  \n",
      "2  3.282395e+08              14.70       270663028.0  37.090240 -95.712891  \n",
      "3  3.282395e+08              14.70       270663028.0  37.090240 -95.712891  \n",
      "4  1.366418e+09               5.36       471031528.0  20.593684  78.962880  \n"
     ]
    }
   ],
   "source": [
    "print(df.head())"
   ]
  },
  {
   "cell_type": "code",
   "execution_count": 77,
   "metadata": {},
   "outputs": [
    {
     "name": "stdout",
     "output_type": "stream",
     "text": [
      "      rank              Youtuber  subscribers   video views          category  \\\n",
      "1001   779              The Dodo   14200000.0  9.964117e+09    Pets & Animals   \n",
      "1002   787      Supercar Blondie   14100000.0  5.405563e+09  Autos & Vehicles   \n",
      "1003   871  Just For Laughs Gags   13300000.0  7.406629e+09            Comedy   \n",
      "1004   872      Kabita's Kitchen   13300000.0  2.831276e+09     Howto & Style   \n",
      "1005   873            BanderitaX   13300000.0  4.129249e+09            Gaming   \n",
      "\n",
      "                     Title  uploads     Country of origin  \\\n",
      "1001     Dorukhan Gï¿½ï¿½ï        8                   NaN   \n",
      "1002      Supercar Blondie      855  United Arab Emirates   \n",
      "1003  Just For Laughs Gags     6916         United States   \n",
      "1004      Kabita's Kitchen     1489                 India   \n",
      "1005            BanderitaX     1640          Saudi Arabia   \n",
      "\n",
      "                   Country Abbreviation channel_type  video_views_rank  \\\n",
      "1001                   NaN          NaN          NaN         4050736.0   \n",
      "1002  United Arab Emirates           AE        Autos            1202.0   \n",
      "1003         United States           US       Comedy             764.0   \n",
      "1004                 India           IN        Howto            3123.0   \n",
      "1005          Saudi Arabia           SA        Games            1818.0   \n",
      "\n",
      "      country_rank  channel_type_rank  video_views_for_the_last_30_days  \\\n",
      "1001           NaN                NaN                            7208.0   \n",
      "1002           7.0                1.0                       353259000.0   \n",
      "1003         167.0               38.0                        17468000.0   \n",
      "1004         117.0               32.0                        43118000.0   \n",
      "1005           7.0               63.0                        70712000.0   \n",
      "\n",
      "      lowest_monthly_earnings  highest_monthly_earnings  \\\n",
      "1001                      2.0                      29.0   \n",
      "1002                  88300.0                 1400000.0   \n",
      "1003                   4400.0                   69900.0   \n",
      "1004                  10800.0                  172500.0   \n",
      "1005                  17700.0                  282800.0   \n",
      "\n",
      "      lowest_yearly_earnings  highest_yearly_earnings  \\\n",
      "1001                    22.0                    346.0   \n",
      "1002               1100000.0               17000000.0   \n",
      "1003                 52400.0                 838500.0   \n",
      "1004                129400.0                2100000.0   \n",
      "1005                212100.0                3400000.0   \n",
      "\n",
      "      subscribers_for_last_30_days  created_year created_month  created_date  \\\n",
      "1001                           5.0        2006.0           Jun          14.0   \n",
      "1002                      500000.0        2007.0           Sep          12.0   \n",
      "1003                      100000.0        2007.0           Jan          14.0   \n",
      "1004                           NaN        2014.0           Oct           7.0   \n",
      "1005                      200000.0        2013.0           Aug          20.0   \n",
      "\n",
      "      Gross tertiary education enrollment (%)    Population  \\\n",
      "1001                                      NaN           NaN   \n",
      "1002                                     36.8  9.770529e+06   \n",
      "1003                                     88.2  3.282395e+08   \n",
      "1004                                     28.1  1.366418e+09   \n",
      "1005                                     68.0  3.426853e+07   \n",
      "\n",
      "      Unemployment rate  Urban_population   Latitude  Longitude  \n",
      "1001                NaN               NaN        NaN        NaN  \n",
      "1002               2.35         8479744.0  23.424076  53.847818  \n",
      "1003              14.70       270663028.0  37.090240 -95.712891  \n",
      "1004               5.36       471031528.0  20.593684  78.962880  \n",
      "1005               5.93        28807838.0  23.885942  45.079162  \n"
     ]
    }
   ],
   "source": [
    "print(df.tail())"
   ]
  },
  {
   "cell_type": "code",
   "execution_count": 78,
   "metadata": {},
   "outputs": [
    {
     "name": "stdout",
     "output_type": "stream",
     "text": [
      "(1006, 29)\n",
      "Index(['rank', 'Youtuber', 'subscribers', 'video views', 'category', 'Title',\n",
      "       'uploads', 'Country of origin', 'Country', 'Abbreviation',\n",
      "       'channel_type', 'video_views_rank', 'country_rank', 'channel_type_rank',\n",
      "       'video_views_for_the_last_30_days', 'lowest_monthly_earnings',\n",
      "       'highest_monthly_earnings', 'lowest_yearly_earnings',\n",
      "       'highest_yearly_earnings', 'subscribers_for_last_30_days',\n",
      "       'created_year', 'created_month', 'created_date',\n",
      "       'Gross tertiary education enrollment (%)', 'Population',\n",
      "       'Unemployment rate', 'Urban_population', 'Latitude', 'Longitude'],\n",
      "      dtype='object')\n"
     ]
    }
   ],
   "source": [
    "print(df.shape)\n",
    "print(df.columns)"
   ]
  },
  {
   "cell_type": "code",
   "execution_count": 79,
   "metadata": {},
   "outputs": [
    {
     "name": "stdout",
     "output_type": "stream",
     "text": [
      "<class 'pandas.core.frame.DataFrame'>\n",
      "RangeIndex: 1006 entries, 0 to 1005\n",
      "Data columns (total 29 columns):\n",
      " #   Column                                   Non-Null Count  Dtype  \n",
      "---  ------                                   --------------  -----  \n",
      " 0   rank                                     1006 non-null   int64  \n",
      " 1   Youtuber                                 1006 non-null   object \n",
      " 2   subscribers                              1003 non-null   float64\n",
      " 3   video views                              1006 non-null   float64\n",
      " 4   category                                 951 non-null    object \n",
      " 5   Title                                    1006 non-null   object \n",
      " 6   uploads                                  1006 non-null   int64  \n",
      " 7   Country of origin                        881 non-null    object \n",
      " 8   Country                                  881 non-null    object \n",
      " 9   Abbreviation                             881 non-null    object \n",
      " 10  channel_type                             974 non-null    object \n",
      " 11  video_views_rank                         1005 non-null   float64\n",
      " 12  country_rank                             887 non-null    float64\n",
      " 13  channel_type_rank                        971 non-null    float64\n",
      " 14  video_views_for_the_last_30_days         949 non-null    float64\n",
      " 15  lowest_monthly_earnings                  1006 non-null   float64\n",
      " 16  highest_monthly_earnings                 1006 non-null   float64\n",
      " 17  lowest_yearly_earnings                   1006 non-null   float64\n",
      " 18  highest_yearly_earnings                  1006 non-null   float64\n",
      " 19  subscribers_for_last_30_days             666 non-null    float64\n",
      " 20  created_year                             1001 non-null   float64\n",
      " 21  created_month                            994 non-null    object \n",
      " 22  created_date                             1001 non-null   float64\n",
      " 23  Gross tertiary education enrollment (%)  880 non-null    float64\n",
      " 24  Population                               880 non-null    float64\n",
      " 25  Unemployment rate                        880 non-null    float64\n",
      " 26  Urban_population                         880 non-null    float64\n",
      " 27  Latitude                                 880 non-null    float64\n",
      " 28  Longitude                                880 non-null    float64\n",
      "dtypes: float64(19), int64(2), object(8)\n",
      "memory usage: 228.1+ KB\n",
      "None\n"
     ]
    }
   ],
   "source": [
    "print(df.info())"
   ]
  },
  {
   "cell_type": "code",
   "execution_count": 80,
   "metadata": {},
   "outputs": [
    {
     "name": "stdout",
     "output_type": "stream",
     "text": [
      "rank                                         0\n",
      "Youtuber                                     0\n",
      "subscribers                                  3\n",
      "video views                                  0\n",
      "category                                    55\n",
      "Title                                        0\n",
      "uploads                                      0\n",
      "Country of origin                          125\n",
      "Country                                    125\n",
      "Abbreviation                               125\n",
      "channel_type                                32\n",
      "video_views_rank                             1\n",
      "country_rank                               119\n",
      "channel_type_rank                           35\n",
      "video_views_for_the_last_30_days            57\n",
      "lowest_monthly_earnings                      0\n",
      "highest_monthly_earnings                     0\n",
      "lowest_yearly_earnings                       0\n",
      "highest_yearly_earnings                      0\n",
      "subscribers_for_last_30_days               340\n",
      "created_year                                 5\n",
      "created_month                               12\n",
      "created_date                                 5\n",
      "Gross tertiary education enrollment (%)    126\n",
      "Population                                 126\n",
      "Unemployment rate                          126\n",
      "Urban_population                           126\n",
      "Latitude                                   126\n",
      "Longitude                                  126\n",
      "dtype: int64\n"
     ]
    }
   ],
   "source": [
    "print(df.isnull().sum())"
   ]
  },
  {
   "cell_type": "code",
   "execution_count": 81,
   "metadata": {},
   "outputs": [
    {
     "name": "stdout",
     "output_type": "stream",
     "text": [
      "rank                                       0\n",
      "Youtuber                                   0\n",
      "subscribers                                0\n",
      "video views                                0\n",
      "category                                   0\n",
      "Title                                      0\n",
      "uploads                                    0\n",
      "Country of origin                          0\n",
      "Country                                    0\n",
      "Abbreviation                               0\n",
      "channel_type                               0\n",
      "video_views_rank                           0\n",
      "country_rank                               0\n",
      "channel_type_rank                          0\n",
      "video_views_for_the_last_30_days           0\n",
      "lowest_monthly_earnings                    0\n",
      "highest_monthly_earnings                   0\n",
      "lowest_yearly_earnings                     0\n",
      "highest_yearly_earnings                    0\n",
      "subscribers_for_last_30_days               0\n",
      "created_year                               0\n",
      "created_month                              0\n",
      "created_date                               0\n",
      "Gross tertiary education enrollment (%)    0\n",
      "Population                                 0\n",
      "Unemployment rate                          0\n",
      "Urban_population                           0\n",
      "Latitude                                   0\n",
      "Longitude                                  0\n",
      "dtype: int64\n"
     ]
    }
   ],
   "source": [
    "df.dropna(subset = [\"subscribers\"], inplace = True)\n",
    "df[\"category\"] = df[\"category\"].fillna(df[\"category\"].mode()[0])\n",
    "df[\"Country of origin\"] = df[\"Country of origin\"].fillna(df[\"Country of origin\"].mode()[0])\n",
    "df[\"Country\"] = df[\"Country\"].fillna(df[\"Country\"].mode()[0])\n",
    "df[\"Abbreviation\"] = df[\"Abbreviation\"].fillna(df[\"Abbreviation\"].mode()[0])\n",
    "df[\"channel_type\"] = df[\"channel_type\"].fillna(df[\"channel_type\"].mode()[0])\n",
    "df.dropna(subset = [\"video_views_rank\"], inplace = True)\n",
    "df[\"country_rank\"] = df[\"country_rank\"].fillna(df[\"country_rank\"].median())\n",
    "df[\"channel_type_rank\"] = df[\"channel_type_rank\"].fillna(df[\"channel_type_rank\"].median())\n",
    "df[\"video_views_for_the_last_30_days\"] = df[\"video_views_for_the_last_30_days\"].fillna(df[\"video_views_for_the_last_30_days\"].median())\n",
    "df[\"subscribers_for_last_30_days\"] = df[\"subscribers_for_last_30_days\"].fillna(df[\"subscribers_for_last_30_days\"].mean())\n",
    "df.dropna(subset = [\"created_year\"], inplace = True)\n",
    "df[\"created_month\"] = df[\"created_month\"].fillna(df[\"created_month\"].mode()[0])\n",
    "df.dropna(subset = [\"created_date\"], inplace = True)\n",
    "df[\"Gross tertiary education enrollment (%)\"] = df[\"Gross tertiary education enrollment (%)\"].fillna(df[\"Gross tertiary education enrollment (%)\"].mean())\n",
    "df[\"Population\"] = df[\"Population\"].fillna(df[\"Population\"].median())\n",
    "df[\"Unemployment rate\"] = df[\"Unemployment rate\"].fillna(df[\"Unemployment rate\"].mean())\n",
    "df[\"Urban_population\"] = df[\"Urban_population\"].fillna(df[\"Urban_population\"].median())\n",
    "df[\"Latitude\"] = df[\"Latitude\"].fillna(df[\"Latitude\"].median())\n",
    "df[\"Longitude\"] = df[\"Longitude\"].fillna(df[\"Longitude\"].median())\n",
    "print(df.isnull().sum())"
   ]
  },
  {
   "cell_type": "code",
   "execution_count": 82,
   "metadata": {},
   "outputs": [
    {
     "name": "stdout",
     "output_type": "stream",
     "text": [
      "(998, 29)\n",
      "Index(['Rank', 'Youtuber', 'Subscribers', 'Video Views', 'Category', 'Title',\n",
      "       'Uploads', 'Country of Origin', 'Country', 'Abbreviation',\n",
      "       'Channel_Type', 'Video_Views_Rank', 'Country_Rank', 'Channel_Type_Rank',\n",
      "       'Video_Views_for_the_last_30_Days', 'Lowest_Monthly_Earnings',\n",
      "       'Highest_Monthly_Earnings', 'Lowest_Yearly_Earnings',\n",
      "       'Highest_Yearly_Earnings', 'Subscribers_for_the_last_30_Days',\n",
      "       'Created_Year', 'Created_Month', 'Created_Date',\n",
      "       'Gross Tertiary Education Enrollment (%)', 'Population',\n",
      "       'Unemployment Rate', 'Urban_Population', 'Latitude', 'Longitude'],\n",
      "      dtype='object')\n"
     ]
    }
   ],
   "source": [
    "df.rename(columns = {\"rank\" : \"Rank\"}, inplace = True)\n",
    "df.rename(columns = {\"subscribers\" : \"Subscribers\"}, inplace = True)\n",
    "df.rename(columns = {\"video views\" : \"Video Views\"}, inplace = True)\n",
    "df.rename(columns = {\"category\" : \"Category\"}, inplace = True)\n",
    "df.rename(columns = {\"uploads\" : \"Uploads\"}, inplace = True)\n",
    "df.rename(columns = {\"Country of origin\" : \"Country of Origin\"}, inplace = True)\n",
    "df.rename(columns = {\"channel_type\" : \"Channel_Type\"}, inplace = True)\n",
    "df.rename(columns = {\"video_views_rank\" : \"Video_Views_Rank\"}, inplace = True)\n",
    "df.rename(columns = {\"country_rank\" : \"Country_Rank\"}, inplace = True)\n",
    "df.rename(columns = {\"channel_type_rank\" : \"Channel_Type_Rank\"}, inplace = True)\n",
    "df.rename(columns = {\"video_views_for_the_last_30_days\" : \"Video_Views_for_the_last_30_Days\"}, inplace = True)\n",
    "df.rename(columns = {\"lowest_monthly_earnings\" : \"Lowest_Monthly_Earnings\"}, inplace = True)\n",
    "df.rename(columns = {\"highest_monthly_earnings\" : \"Highest_Monthly_Earnings\"}, inplace = True)\n",
    "df.rename(columns = {\"lowest_yearly_earnings\" : \"Lowest_Yearly_Earnings\"}, inplace = True)\n",
    "df.rename(columns = {\"highest_yearly_earnings\" : \"Highest_Yearly_Earnings\"}, inplace = True)\n",
    "df.rename(columns = {\"subscribers_for_last_30_days\" : \"Subscribers_for_the_last_30_Days\"}, inplace = True)\n",
    "df.rename(columns = {\"created_year\" : \"Created_Year\"}, inplace = True)\n",
    "df.rename(columns = {\"created_month\" : \"Created_Month\"}, inplace = True)\n",
    "df.rename(columns = {\"created_date\" : \"Created_Date\"}, inplace = True)\n",
    "df.rename(columns = {\"Gross tertiary education enrollment (%)\" : \"Gross Tertiary Education Enrollment (%)\"}, inplace = True)\n",
    "df.rename(columns = {\"Unemployment rate\" : \"Unemployment Rate\"}, inplace = True)\n",
    "df.rename(columns = {\"Urban_population\" : \"Urban_Population\"}, inplace = True)\n",
    "print(df.shape)\n",
    "print(df.columns)"
   ]
  },
  {
   "cell_type": "code",
   "execution_count": 83,
   "metadata": {},
   "outputs": [
    {
     "name": "stdout",
     "output_type": "stream",
     "text": [
      "<class 'pandas.core.frame.DataFrame'>\n",
      "Index: 998 entries, 0 to 1005\n",
      "Data columns (total 29 columns):\n",
      " #   Column                                   Non-Null Count  Dtype  \n",
      "---  ------                                   --------------  -----  \n",
      " 0   Rank                                     998 non-null    int64  \n",
      " 1   Youtuber                                 998 non-null    object \n",
      " 2   Subscribers                              998 non-null    float64\n",
      " 3   Video Views                              998 non-null    float64\n",
      " 4   Category                                 998 non-null    object \n",
      " 5   Title                                    998 non-null    object \n",
      " 6   Uploads                                  998 non-null    int64  \n",
      " 7   Country of Origin                        998 non-null    object \n",
      " 8   Country                                  998 non-null    object \n",
      " 9   Abbreviation                             998 non-null    object \n",
      " 10  Channel_Type                             998 non-null    object \n",
      " 11  Video_Views_Rank                         998 non-null    float64\n",
      " 12  Country_Rank                             998 non-null    float64\n",
      " 13  Channel_Type_Rank                        998 non-null    float64\n",
      " 14  Video_Views_for_the_last_30_Days         998 non-null    float64\n",
      " 15  Lowest_Monthly_Earnings                  998 non-null    float64\n",
      " 16  Highest_Monthly_Earnings                 998 non-null    float64\n",
      " 17  Lowest_Yearly_Earnings                   998 non-null    float64\n",
      " 18  Highest_Yearly_Earnings                  998 non-null    float64\n",
      " 19  Subscribers_for_the_last_30_Days         998 non-null    float64\n",
      " 20  Created_Year                             998 non-null    float64\n",
      " 21  Created_Month                            998 non-null    object \n",
      " 22  Created_Date                             998 non-null    float64\n",
      " 23  Gross Tertiary Education Enrollment (%)  998 non-null    float64\n",
      " 24  Population                               998 non-null    float64\n",
      " 25  Unemployment Rate                        998 non-null    float64\n",
      " 26  Urban_Population                         998 non-null    float64\n",
      " 27  Latitude                                 998 non-null    float64\n",
      " 28  Longitude                                998 non-null    float64\n",
      "dtypes: float64(19), int64(2), object(8)\n",
      "memory usage: 233.9+ KB\n",
      "None\n"
     ]
    }
   ],
   "source": [
    "print(df.info())"
   ]
  },
  {
   "cell_type": "code",
   "execution_count": 85,
   "metadata": {},
   "outputs": [
    {
     "data": {
      "text/html": [
       "<div>\n",
       "<style scoped>\n",
       "    .dataframe tbody tr th:only-of-type {\n",
       "        vertical-align: middle;\n",
       "    }\n",
       "\n",
       "    .dataframe tbody tr th {\n",
       "        vertical-align: top;\n",
       "    }\n",
       "\n",
       "    .dataframe thead th {\n",
       "        text-align: right;\n",
       "    }\n",
       "</style>\n",
       "<table border=\"1\" class=\"dataframe\">\n",
       "  <thead>\n",
       "    <tr style=\"text-align: right;\">\n",
       "      <th></th>\n",
       "      <th>Rank</th>\n",
       "      <th>Youtuber</th>\n",
       "      <th>Subscribers</th>\n",
       "    </tr>\n",
       "  </thead>\n",
       "  <tbody>\n",
       "    <tr>\n",
       "      <th>0</th>\n",
       "      <td>1</td>\n",
       "      <td>T-Series</td>\n",
       "      <td>245000000.0</td>\n",
       "    </tr>\n",
       "    <tr>\n",
       "      <th>1</th>\n",
       "      <td>2</td>\n",
       "      <td>YouTube Movies</td>\n",
       "      <td>170000000.0</td>\n",
       "    </tr>\n",
       "    <tr>\n",
       "      <th>2</th>\n",
       "      <td>3</td>\n",
       "      <td>MrBeast</td>\n",
       "      <td>166000000.0</td>\n",
       "    </tr>\n",
       "    <tr>\n",
       "      <th>3</th>\n",
       "      <td>4</td>\n",
       "      <td>Cocomelon - Nursery Rhymes</td>\n",
       "      <td>162000000.0</td>\n",
       "    </tr>\n",
       "    <tr>\n",
       "      <th>4</th>\n",
       "      <td>5</td>\n",
       "      <td>SET India</td>\n",
       "      <td>159000000.0</td>\n",
       "    </tr>\n",
       "    <tr>\n",
       "      <th>5</th>\n",
       "      <td>6</td>\n",
       "      <td>Music</td>\n",
       "      <td>119000000.0</td>\n",
       "    </tr>\n",
       "    <tr>\n",
       "      <th>6</th>\n",
       "      <td>7</td>\n",
       "      <td>ýýý Kids Diana Show</td>\n",
       "      <td>112000000.0</td>\n",
       "    </tr>\n",
       "    <tr>\n",
       "      <th>7</th>\n",
       "      <td>8</td>\n",
       "      <td>PewDiePie</td>\n",
       "      <td>111000000.0</td>\n",
       "    </tr>\n",
       "    <tr>\n",
       "      <th>8</th>\n",
       "      <td>9</td>\n",
       "      <td>Like Nastya</td>\n",
       "      <td>106000000.0</td>\n",
       "    </tr>\n",
       "    <tr>\n",
       "      <th>9</th>\n",
       "      <td>10</td>\n",
       "      <td>Vlad and Niki</td>\n",
       "      <td>98900000.0</td>\n",
       "    </tr>\n",
       "  </tbody>\n",
       "</table>\n",
       "</div>"
      ],
      "text/plain": [
       "   Rank                    Youtuber  Subscribers\n",
       "0     1                    T-Series  245000000.0\n",
       "1     2              YouTube Movies  170000000.0\n",
       "2     3                     MrBeast  166000000.0\n",
       "3     4  Cocomelon - Nursery Rhymes  162000000.0\n",
       "4     5                   SET India  159000000.0\n",
       "5     6                       Music  119000000.0\n",
       "6     7         ýýý Kids Diana Show  112000000.0\n",
       "7     8                   PewDiePie  111000000.0\n",
       "8     9                 Like Nastya  106000000.0\n",
       "9    10               Vlad and Niki   98900000.0"
      ]
     },
     "execution_count": 85,
     "metadata": {},
     "output_type": "execute_result"
    }
   ],
   "source": [
    "df.iloc[0:10, 0:3]"
   ]
  },
  {
   "cell_type": "code",
   "execution_count": 98,
   "metadata": {},
   "outputs": [
    {
     "name": "stdout",
     "output_type": "stream",
     "text": [
      "Category\n",
      "Autos & Vehicles         1.660000e+07\n",
      "Comedy                   2.002571e+07\n",
      "Education                2.712391e+07\n",
      "Entertainment            2.252414e+07\n",
      "Film & Animation         2.762727e+07\n",
      "Gaming                   2.089677e+07\n",
      "Howto & Style            1.935750e+07\n",
      "Movies                   2.565000e+07\n",
      "Music                    2.605347e+07\n",
      "News & Politics          2.063077e+07\n",
      "Nonprofits & Activism    2.775000e+07\n",
      "People & Blogs           2.057846e+07\n",
      "Pets & Animals           1.732000e+07\n",
      "Science & Technology     1.861765e+07\n",
      "Shows                    4.161538e+07\n",
      "Sports                   3.285000e+07\n",
      "Trailers                 3.900000e+07\n",
      "Travel & Events          1.250000e+07\n",
      "Name: Subscribers, dtype: float64\n"
     ]
    }
   ],
   "source": [
    "grouped_data_1 = df.groupby([\"Category\"])[\"Subscribers\"].mean()\n",
    "print(grouped_data_1)"
   ]
  },
  {
   "cell_type": "code",
   "execution_count": 106,
   "metadata": {},
   "outputs": [
    {
     "name": "stdout",
     "output_type": "stream",
     "text": [
      "Category\n",
      "Autos & Vehicles           1550.666667\n",
      "Comedy                     1202.557143\n",
      "Education                  3087.086957\n",
      "Entertainment             10038.406897\n",
      "Film & Animation           2899.340909\n",
      "Gaming                     4243.892473\n",
      "Howto & Style              1695.500000\n",
      "Movies                     3553.000000\n",
      "Music                      2337.460396\n",
      "News & Politics          112484.384615\n",
      "Nonprofits & Activism    102912.000000\n",
      "People & Blogs             9328.000000\n",
      "Pets & Animals             3562.800000\n",
      "Science & Technology       2114.058824\n",
      "Shows                     27443.692308\n",
      "Sports                    19129.833333\n",
      "Trailers                   6839.000000\n",
      "Travel & Events             766.000000\n",
      "Name: Uploads, dtype: float64\n"
     ]
    }
   ],
   "source": [
    "grouped_data_2 = df.groupby([\"Category\"])[\"Uploads\"].mean()\n",
    "print(grouped_data_2)"
   ]
  }
 ],
 "metadata": {
  "kernelspec": {
   "display_name": "Python 3",
   "language": "python",
   "name": "python3"
  },
  "language_info": {
   "codemirror_mode": {
    "name": "ipython",
    "version": 3
   },
   "file_extension": ".py",
   "mimetype": "text/x-python",
   "name": "python",
   "nbconvert_exporter": "python",
   "pygments_lexer": "ipython3",
   "version": "3.12.4"
  }
 },
 "nbformat": 4,
 "nbformat_minor": 2
}
